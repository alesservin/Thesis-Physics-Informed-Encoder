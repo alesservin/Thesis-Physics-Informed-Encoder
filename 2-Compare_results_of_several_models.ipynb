{
 "cells": [
  {
   "cell_type": "code",
   "execution_count": 1,
   "id": "1071024c-f4f4-487a-8633-25525972bfaa",
   "metadata": {},
   "outputs": [],
   "source": [
    "# # In case the Int Slider does not appear, run:\n",
    "# !pip install ipywidgets\n",
    "# !jupyter lab clean\n",
    "# # restart kernel"
   ]
  },
  {
   "cell_type": "code",
   "execution_count": 2,
   "id": "c93581c1-1f55-44a4-8e5c-f1b3205ebf20",
   "metadata": {
    "tags": []
   },
   "outputs": [],
   "source": [
    "import pandas as pd\n",
    "import numpy as np\n",
    "import matplotlib.pyplot as plt\n",
    "import ipywidgets as widgets\n",
    "from IPython.display import display, clear_output\n",
    "import os\n",
    "import matplotlib.colors as mcolors\n",
    "import plotly.graph_objects as go\n",
    "import plotly.colors as pc"
   ]
  },
  {
   "cell_type": "code",
   "execution_count": 3,
   "id": "b80d934b-fad6-4837-8497-059c626f6be5",
   "metadata": {},
   "outputs": [],
   "source": [
    "# !pip list --not-required "
   ]
  },
  {
   "cell_type": "code",
   "execution_count": null,
   "id": "0b9975f1-04b1-4d0b-9631-cd0d86d835b7",
   "metadata": {},
   "outputs": [],
   "source": []
  },
  {
   "cell_type": "markdown",
   "id": "41d3ade6-9f77-4e51-abe9-9ac61d0cd2c8",
   "metadata": {},
   "source": [
    "# Define results for which dataset to display"
   ]
  },
  {
   "cell_type": "code",
   "execution_count": 4,
   "id": "1b0d2a97-cfd2-4eac-bafd-2de1784581e7",
   "metadata": {},
   "outputs": [],
   "source": [
    "# 1. Dataset: Full trips\n",
    "dataset = \"results/Full_trips\""
   ]
  },
  {
   "cell_type": "code",
   "execution_count": null,
   "id": "7e6dd9a8-6847-411f-abcd-d352767bcc5b",
   "metadata": {},
   "outputs": [],
   "source": []
  },
  {
   "cell_type": "markdown",
   "id": "df4dba14-371e-47a5-b745-fba028d77257",
   "metadata": {},
   "source": [
    "# List all experiment folders"
   ]
  },
  {
   "cell_type": "code",
   "execution_count": 5,
   "id": "48785e21-8bd4-49ae-93a2-a23f35e2cd71",
   "metadata": {},
   "outputs": [],
   "source": [
    "def list_directories(path):\n",
    "    directories = [f\"{path}/{d}\" for d in os.listdir(path) if os.path.isdir(os.path.join(path, d))]\n",
    "    return directories"
   ]
  },
  {
   "cell_type": "code",
   "execution_count": 6,
   "id": "85c779aa-2cd6-4981-a3d0-71ebef0cdc0c",
   "metadata": {},
   "outputs": [
    {
     "data": {
      "text/plain": [
       "['results/Full_trips/HYBRYD_MODEL_True-LearningR_0.001-epochs_100-patience_100_-TransformUsesCalculFields_False',\n",
       " 'results/Full_trips/HYBRYD_MODEL_True-LearningR_0.001-epochs_300-patience_300_-TransformUsesCalculFields_False']"
      ]
     },
     "execution_count": 6,
     "metadata": {},
     "output_type": "execute_result"
    }
   ],
   "source": [
    "experiments_paths = list_directories(dataset)\n",
    "experiments_paths"
   ]
  },
  {
   "cell_type": "code",
   "execution_count": null,
   "id": "532e2228-7612-4bc8-8730-787925d6af20",
   "metadata": {},
   "outputs": [],
   "source": []
  },
  {
   "cell_type": "markdown",
   "id": "f3e6db2c-a590-4e4e-962f-4fb54a43e697",
   "metadata": {},
   "source": [
    "# Unify results of all models in each experiment"
   ]
  },
  {
   "cell_type": "code",
   "execution_count": 7,
   "id": "f55c66e3-319e-432c-9c05-e72944727240",
   "metadata": {},
   "outputs": [],
   "source": [
    "def get_filepaths_with_extension(file_extension=\".csv\", directory=\".\"):\n",
    "    output = []\n",
    "    \n",
    "    for file in os.listdir(directory):  \n",
    "        # Check if the file has the required extension\n",
    "        if file.endswith(file_extension):\n",
    "            output.append(f\"{directory}/{file}\") \n",
    "            \n",
    "    return output"
   ]
  },
  {
   "cell_type": "markdown",
   "id": "bd4792d9-e98b-43bc-8054-d03b40686408",
   "metadata": {},
   "source": [
    "## List all files from first model found"
   ]
  },
  {
   "cell_type": "code",
   "execution_count": 8,
   "id": "53279df1-f842-4ca0-bfe4-90748df2b69e",
   "metadata": {},
   "outputs": [
    {
     "data": {
      "text/plain": [
       "'results/Full_trips/HYBRYD_MODEL_True-LearningR_0.001-epochs_100-patience_100_-TransformUsesCalculFields_False/Physics/test_data_and_model_output'"
      ]
     },
     "execution_count": 8,
     "metadata": {},
     "output_type": "execute_result"
    }
   ],
   "source": [
    "first_model_path = list_directories(experiments_paths[0])[0]\n",
    "first_model_path += \"/test_data_and_model_output\"\n",
    "first_model_path"
   ]
  },
  {
   "cell_type": "code",
   "execution_count": 9,
   "id": "6a5ec1fd-466a-40e9-8046-798e1ac878d8",
   "metadata": {},
   "outputs": [
    {
     "data": {
      "text/plain": [
       "['file-0.csv',\n",
       " 'file-1.csv',\n",
       " 'file-2.csv',\n",
       " 'file-3.csv',\n",
       " 'file-4.csv',\n",
       " 'file-5.csv',\n",
       " 'file-6.csv',\n",
       " 'file-7.csv',\n",
       " 'file-8.csv',\n",
       " 'file-9.csv']"
      ]
     },
     "execution_count": 9,
     "metadata": {},
     "output_type": "execute_result"
    }
   ],
   "source": [
    "first_model_output_filenames = get_filepaths_with_extension(file_extension=\".csv\", directory=first_model_path)\n",
    "first_model_output_filenames = [path.split(\"/\")[-1] for path in first_model_output_filenames]    # keep only filename\n",
    "first_model_output_filenames"
   ]
  },
  {
   "cell_type": "markdown",
   "id": "9f219243-2c03-412b-b982-dd81d9c5e1a2",
   "metadata": {},
   "source": [
    "## Get and Concatenate results of all models of each experiment"
   ]
  },
  {
   "cell_type": "code",
   "execution_count": 10,
   "id": "53ffccf0-5f0f-4f12-a11e-2420082a92b4",
   "metadata": {},
   "outputs": [],
   "source": [
    "dict_experiments_results = {}"
   ]
  },
  {
   "cell_type": "code",
   "execution_count": 11,
   "id": "70c1db55-7b58-4341-bf05-c067d3e35fcd",
   "metadata": {},
   "outputs": [],
   "source": [
    "columns_to_keep = [\"Time [s]\", \"SoC [%]\", \"Physics-and-Transformer\", \"Physics\", \"Transformer\"]"
   ]
  },
  {
   "cell_type": "code",
   "execution_count": 12,
   "id": "dc568fa7-a60b-408e-ba64-d1f8e6473611",
   "metadata": {},
   "outputs": [],
   "source": [
    "for experiment_path in experiments_paths:\n",
    "    # print(experiment_path)\n",
    "    # get all model directories\n",
    "    models_directories = list_directories(experiment_path)\n",
    "\n",
    "    models_output_directories = [f\"{model}/test_data_and_model_output\" for model in models_directories]    # add directory where models store their output\n",
    "\n",
    "    # print(models_output_directories)\n",
    "    \n",
    "    # get results from each model\n",
    "    experiment_result = []\n",
    "    for output_filename in first_model_output_filenames:    # iterate over each filename to make sure the comparison of the different models is correct\n",
    "        df = None\n",
    "        for models_output_directory in models_output_directories:    # iterate over the output directories of each model\n",
    "            csv_filepath = f\"{models_output_directory}/{output_filename}\"\n",
    "            df_new = pd.read_csv(csv_filepath, sep=\";\", encoding=\"ISO-8859-2\")\n",
    "\n",
    "            # if there is no dataframe stored yet\n",
    "            if df is None:\n",
    "                df = df_new.copy()\n",
    "            else: \n",
    "                df = pd.concat([df, df_new], axis=1)    # concatenating along columns \n",
    "\n",
    "        # keep only important columns for plots\n",
    "        df = df[columns_to_keep]    \n",
    "        # remove duplicated columns\n",
    "        df = df.loc[:,~df.columns.duplicated()]\n",
    "        \n",
    "        # print(df)\n",
    "        experiment_result.append(df)\n",
    "\n",
    "    experiment_name = experiment_path.split(\"/\")[-1]\n",
    "    dict_experiments_results[experiment_name] = experiment_result"
   ]
  },
  {
   "cell_type": "code",
   "execution_count": 13,
   "id": "deea1b10-62ec-471c-817f-7d5f04b56ae5",
   "metadata": {
    "scrolled": true
   },
   "outputs": [
    {
     "data": {
      "text/plain": [
       "{'HYBRYD_MODEL_True-LearningR_0.001-epochs_100-patience_100_-TransformUsesCalculFields_False': [          Time [s]  SoC [%]  Physics-and-Transformer    Physics  Transformer\n",
       "  0        -0.000017     85.4                86.017990  85.400000     81.23502\n",
       "  1         0.099959     85.4                86.026306  85.399826     81.20763\n",
       "  2         0.199934     85.4                86.030690  85.399640     81.13745\n",
       "  3         0.300032     85.4                86.029760  85.399450     81.09142\n",
       "  4         0.400008     85.4                86.029110  85.399250     80.97411\n",
       "  ...            ...      ...                      ...        ...          ...\n",
       "  13620  1362.000000     71.5                70.651410  68.958250     74.84778\n",
       "  13621  1362.100000     71.5                70.655970  68.957990     73.85989\n",
       "  13622  1362.200000     71.5                70.613550  68.957730     73.61963\n",
       "  13623  1362.300000     71.5                70.560550  68.957466     74.26841\n",
       "  13624  1362.400000     71.5                70.549355  68.957200     75.11363\n",
       "  \n",
       "  [13625 rows x 5 columns],\n",
       "          Time [s]  SoC [%]  Physics-and-Transformer    Physics  Transformer\n",
       "  0      -0.000017     84.2                84.856450  84.200000    80.301025\n",
       "  1       0.099959     84.2                84.860855  84.199800    80.330890\n",
       "  2       0.199934     84.2                84.862890  84.199570    80.349520\n",
       "  3       0.300032     84.2                84.864170  84.199300    80.290820\n",
       "  4       0.400008     84.2                84.867035  84.199030    80.102165\n",
       "  ...          ...      ...                      ...        ...          ...\n",
       "  9202  920.200000     70.4                69.056170  67.957090    70.808710\n",
       "  9203  920.300000     70.4                69.065840  67.957050    69.979380\n",
       "  9204  920.400000     70.4                69.055930  67.957010    69.199680\n",
       "  9205  920.500000     70.4                69.021736  67.956970    68.952600\n",
       "  9206  920.600000     70.4                68.988480  67.956924    69.222310\n",
       "  \n",
       "  [9207 rows x 5 columns],\n",
       "          Time [s]    SoC [%]  Physics-and-Transformer    Physics  Transformer\n",
       "  0      -0.000017  52.600002                53.334347  52.600000    59.804330\n",
       "  1       0.099959  52.600002                53.333866  52.599686    61.384365\n",
       "  2       0.199934  52.600002                53.335888  52.599390    63.268740\n",
       "  3       0.300032  52.600002                53.338276  52.599087    63.982285\n",
       "  4       0.400008  52.600002                53.345740  52.598750    63.921017\n",
       "  ...          ...        ...                      ...        ...          ...\n",
       "  7951  795.100000  38.100000                37.186440  35.464400    51.964510\n",
       "  7952  795.200000  38.100000                37.236202  35.464355    51.732624\n",
       "  7953  795.300000  38.100000                37.291600  35.464306    50.702230\n",
       "  7954  795.399960  38.100000                37.291813  35.464264    49.680378\n",
       "  7955  795.500000  38.100000                37.231090  35.464220    49.774060\n",
       "  \n",
       "  [7956 rows x 5 columns],\n",
       "            Time [s]  SoC [%]  Physics-and-Transformer    Physics  Transformer\n",
       "  0        -0.000017     83.8                84.435690  83.800000    81.028830\n",
       "  1         0.099959     83.8                84.442550  83.799310    80.979450\n",
       "  2         0.199934     83.8                84.446130  83.798610    80.910720\n",
       "  3         0.300032     83.8                84.445580  83.797910    80.832054\n",
       "  4         0.400008     83.8                84.445070  83.797210    80.692960\n",
       "  ...            ...      ...                      ...        ...          ...\n",
       "  14167  1416.700000     68.0                66.703680  65.026190    69.062450\n",
       "  14168  1416.800000     68.0                66.699394  65.025826    68.258420\n",
       "  14169  1416.900000     68.0                66.653190  65.025480    68.672670\n",
       "  14170  1417.000000     68.0                66.624170  65.025180    69.822464\n",
       "  14171  1417.100000     68.0                66.641304  65.024880    70.964100\n",
       "  \n",
       "  [14172 rows x 5 columns],\n",
       "            Time [s]  SoC [%]  Physics-and-Transformer    Physics  Transformer\n",
       "  0        -0.000017     72.1                72.759125  72.100000    77.655075\n",
       "  1         0.099959     72.1                72.764336  72.099710    77.965780\n",
       "  2         0.199934     72.1                72.767450  72.099400    78.206310\n",
       "  3         0.300032     72.1                72.766920  72.099075    78.202150\n",
       "  4         0.400008     72.1                72.767970  72.098740    77.862220\n",
       "  ...            ...      ...                      ...        ...          ...\n",
       "  28516  2851.599900     44.5                43.678200  39.441486    43.464085\n",
       "  28517  2851.700000     44.5                43.745747  39.441330    43.388435\n",
       "  28518  2851.800000     44.5                43.722027  39.441177    43.503845\n",
       "  28519  2851.900000     44.5                43.556650  39.441013    44.034653\n",
       "  28520  2852.000000     44.5                43.317170  39.440840    45.114900\n",
       "  \n",
       "  [28521 rows x 5 columns],\n",
       "            Time [s]  SoC [%]  Physics-and-Transformer    Physics  Transformer\n",
       "  0        -0.000017     72.1                72.757330  72.100000    77.746124\n",
       "  1         0.099959     72.1                72.763245  72.099860    78.062820\n",
       "  2         0.199934     72.1                72.766010  72.099686    78.303870\n",
       "  3         0.300032     72.1                72.766120  72.099500    78.289770\n",
       "  4         0.400008     72.1                72.767140  72.099300    77.970790\n",
       "  ...            ...      ...                      ...        ...          ...\n",
       "  10963  1096.300000     57.8                56.753513  55.191467    61.702990\n",
       "  10964  1096.400000     57.8                56.732338  55.191216    62.026240\n",
       "  10965  1096.500000     57.8                56.692950  55.190970    63.519090\n",
       "  10966  1096.600000     57.8                56.671055  55.190735    64.708320\n",
       "  10967  1096.700000     57.8                56.685720  55.190500    64.775020\n",
       "  \n",
       "  [10968 rows x 5 columns],\n",
       "          Time [s]  SoC [%]  Physics-and-Transformer    Physics  Transformer\n",
       "  0      -0.000017     77.4                78.021470  77.400000    81.199610\n",
       "  1       0.099959     77.4                78.030300  77.399420    81.148610\n",
       "  2       0.199934     77.4                78.034630  77.398840    81.062820\n",
       "  3       0.300032     77.4                78.032460  77.398290    80.961800\n",
       "  4       0.400008     77.4                78.030600  77.397770    80.789734\n",
       "  ...          ...      ...                      ...        ...          ...\n",
       "  5475  547.500000     71.6                71.306530  70.497490    76.489330\n",
       "  5476  547.600000     71.6                71.319695  70.497284    76.483090\n",
       "  5477  547.700000     71.6                71.331440  70.497060    76.472700\n",
       "  5478  547.800050     71.6                71.334050  70.496840    76.676050\n",
       "  5479  547.899960     71.6                71.336690  70.496620    77.269530\n",
       "  \n",
       "  [5480 rows x 5 columns],\n",
       "          Time [s]    SoC [%]  Physics-and-Transformer    Physics  Transformer\n",
       "  0      -0.000017  31.500000                32.355225  31.500004    45.743893\n",
       "  1       0.099959  31.500000                32.338005  31.499397    46.602898\n",
       "  2       0.199934  31.500000                32.328358  31.498768    48.546350\n",
       "  3       0.300032  31.500000                32.330223  31.498100    50.043747\n",
       "  4       0.400008  31.500000                32.348373  31.497425    50.492170\n",
       "  ...          ...        ...                      ...        ...          ...\n",
       "  9680  968.000000  15.400002                17.423235  12.416431    41.542206\n",
       "  9681  968.100000  15.400002                17.455591  12.416176    41.542095\n",
       "  9682  968.200000  15.400002                17.355124  12.415924    41.579220\n",
       "  9683  968.300000  15.400002                17.170118  12.415649    41.803417\n",
       "  9684  968.400000  15.400002                17.046186  12.415352    42.256157\n",
       "  \n",
       "  [9685 rows x 5 columns],\n",
       "            Time [s]  SoC [%]  Physics-and-Transformer    Physics  Transformer\n",
       "  0        -0.000017     65.0                65.785610  65.000000    59.708420\n",
       "  1         0.099959     65.0                65.780950  64.999150    61.291992\n",
       "  2         0.199934     65.0                65.779650  64.998290    63.213253\n",
       "  3         0.300032     65.0                65.783180  64.997430    63.986004\n",
       "  4         0.400008     65.0                65.793030  64.996580    63.756504\n",
       "  ...            ...      ...                      ...        ...          ...\n",
       "  16424  1642.400000     48.8                47.755596  45.762413    48.111584\n",
       "  16425  1642.500000     48.8                47.706062  45.762188    48.340977\n",
       "  16426  1642.600000     48.8                47.677277  45.761970    49.249508\n",
       "  16427  1642.700000     48.8                47.701490  45.761765    49.905610\n",
       "  16428  1642.799900     48.8                47.762270  45.761560    49.877335\n",
       "  \n",
       "  [16429 rows x 5 columns],\n",
       "          Time [s]  SoC [%]  Physics-and-Transformer    Physics  Transformer\n",
       "  0      -0.000017     73.9                74.526330  73.900000    79.303955\n",
       "  1       0.099959     73.9                74.537040  73.899710    79.476135\n",
       "  2       0.199934     73.9                74.542240  73.899400    79.598380\n",
       "  3       0.300032     73.9                74.540080  73.899050    79.560360\n",
       "  4       0.400008     73.9                74.536476  73.898680    79.292890\n",
       "  ...          ...      ...                      ...        ...          ...\n",
       "  2926  292.599950     71.3                71.475950  70.780330    72.788970\n",
       "  2927  292.699980     71.3                71.483140  70.779450    72.104880\n",
       "  2928  292.800020     71.3                71.489230  70.778534    73.175804\n",
       "  2929  292.900000     71.3                71.494190  70.777626    75.004270\n",
       "  2930  292.999970     71.3                71.497700  70.776726    76.649710\n",
       "  \n",
       "  [2931 rows x 5 columns]],\n",
       " 'HYBRYD_MODEL_True-LearningR_0.001-epochs_300-patience_300_-TransformUsesCalculFields_False': [          Time [s]  SoC [%]  Physics-and-Transformer    Physics  Transformer\n",
       "  0        -0.000017     85.4                85.389160  85.400000    77.240150\n",
       "  1         0.099959     85.4                85.392365  85.399826    77.597010\n",
       "  2         0.199934     85.4                85.398160  85.399640    77.627625\n",
       "  3         0.300032     85.4                85.402470  85.399450    77.096756\n",
       "  4         0.400008     85.4                85.402970  85.399250    76.162870\n",
       "  ...            ...      ...                      ...        ...          ...\n",
       "  13620  1362.000000     71.5                71.055560  68.958250    53.665226\n",
       "  13621  1362.100000     71.5                71.100860  68.957990    54.835575\n",
       "  13622  1362.200000     71.5                71.097710  68.957730    56.372540\n",
       "  13623  1362.300000     71.5                71.045944  68.957466    57.061184\n",
       "  13624  1362.400000     71.5                71.005340  68.957200    56.461838\n",
       "  \n",
       "  [13625 rows x 5 columns],\n",
       "          Time [s]  SoC [%]  Physics-and-Transformer    Physics  Transformer\n",
       "  0      -0.000017     84.2                84.228130  84.200000    75.835810\n",
       "  1       0.099959     84.2                84.230620  84.199800    76.207930\n",
       "  2       0.199934     84.2                84.235794  84.199570    75.976540\n",
       "  3       0.300032     84.2                84.240260  84.199300    74.921036\n",
       "  4       0.400008     84.2                84.240906  84.199030    73.600730\n",
       "  ...          ...      ...                      ...        ...          ...\n",
       "  9202  920.200000     70.4                69.954310  67.957090    61.157562\n",
       "  9203  920.300000     70.4                69.979610  67.957050    61.510628\n",
       "  9204  920.400000     70.4                69.997856  67.957010    63.269480\n",
       "  9205  920.500000     70.4                69.986460  67.956970    64.557230\n",
       "  9206  920.600000     70.4                69.968340  67.956924    63.949886\n",
       "  \n",
       "  [9207 rows x 5 columns],\n",
       "          Time [s]    SoC [%]  Physics-and-Transformer    Physics  Transformer\n",
       "  0      -0.000017  52.600002                52.661507  52.600000    67.212746\n",
       "  1       0.099959  52.600002                52.667774  52.599686    66.433930\n",
       "  2       0.199934  52.600002                52.677360  52.599390    62.961063\n",
       "  3       0.300032  52.600002                52.685036  52.599087    59.407880\n",
       "  4       0.400008  52.600002                52.685688  52.598750    58.325140\n",
       "  ...          ...        ...                      ...        ...          ...\n",
       "  7951  795.100000  38.100000                37.502014  35.464400    49.316930\n",
       "  7952  795.200000  38.100000                37.529175  35.464355    49.504593\n",
       "  7953  795.300000  38.100000                37.557636  35.464306    49.807354\n",
       "  7954  795.399960  38.100000                37.573357  35.464264    49.871323\n",
       "  7955  795.500000  38.100000                37.578125  35.464220    49.476887\n",
       "  \n",
       "  [7956 rows x 5 columns],\n",
       "            Time [s]  SoC [%]  Physics-and-Transformer    Physics  Transformer\n",
       "  0        -0.000017     83.8                83.806200  83.800000    76.776890\n",
       "  1         0.099959     83.8                83.808495  83.799310    77.170050\n",
       "  2         0.199934     83.8                83.813286  83.798610    77.124550\n",
       "  3         0.300032     83.8                83.817320  83.797910    76.380486\n",
       "  4         0.400008     83.8                83.817280  83.797210    75.280590\n",
       "  ...            ...      ...                      ...        ...          ...\n",
       "  14167  1416.700000     68.0                67.664010  65.026190    60.545452\n",
       "  14168  1416.800000     68.0                67.682830  65.025826    61.468876\n",
       "  14169  1416.900000     68.0                67.644580  65.025480    61.322247\n",
       "  14170  1417.000000     68.0                67.565600  65.025180    59.225290\n",
       "  14171  1417.100000     68.0                67.490490  65.024880    55.938175\n",
       "  \n",
       "  [14172 rows x 5 columns],\n",
       "            Time [s]  SoC [%]  Physics-and-Transformer    Physics  Transformer\n",
       "  0        -0.000017     72.1                72.120476  72.100000    75.052970\n",
       "  1         0.099959     72.1                72.123634  72.099710    75.480960\n",
       "  2         0.199934     72.1                72.129670  72.099400    74.863716\n",
       "  3         0.300032     72.1                72.134254  72.099075    72.849740\n",
       "  4         0.400008     72.1                72.134650  72.098740    70.755860\n",
       "  ...            ...      ...                      ...        ...          ...\n",
       "  28516  2851.599900     44.5                44.640850  39.441486    49.332584\n",
       "  28517  2851.700000     44.5                44.604660  39.441330    49.115284\n",
       "  28518  2851.800000     44.5                44.636806  39.441177    49.163517\n",
       "  28519  2851.900000     44.5                44.688103  39.441013    49.375350\n",
       "  28520  2852.000000     44.5                44.704033  39.440840    49.589160\n",
       "  \n",
       "  [28521 rows x 5 columns],\n",
       "            Time [s]  SoC [%]  Physics-and-Transformer    Physics  Transformer\n",
       "  0        -0.000017     72.1                72.119170  72.100000    75.125170\n",
       "  1         0.099959     72.1                72.122620  72.099860    75.552620\n",
       "  2         0.199934     72.1                72.128970  72.099686    74.980360\n",
       "  3         0.300032     72.1                72.133644  72.099500    73.034340\n",
       "  4         0.400008     72.1                72.134160  72.099300    70.982620\n",
       "  ...            ...      ...                      ...        ...          ...\n",
       "  10963  1096.300000     57.8                57.500053  55.191467    55.963238\n",
       "  10964  1096.400000     57.8                57.469543  55.191216    57.312252\n",
       "  10965  1096.500000     57.8                57.414272  55.190970    57.965310\n",
       "  10966  1096.600000     57.8                57.382706  55.190735    57.391632\n",
       "  10967  1096.700000     57.8                57.387318  55.190500    56.378178\n",
       "  \n",
       "  [10968 rows x 5 columns],\n",
       "          Time [s]  SoC [%]  Physics-and-Transformer    Physics  Transformer\n",
       "  0      -0.000017     77.4                77.391040  77.400000     77.21999\n",
       "  1       0.099959     77.4                77.393810  77.399420     77.59028\n",
       "  2       0.199934     77.4                77.399100  77.398840     77.59711\n",
       "  3       0.300032     77.4                77.402870  77.398290     76.96222\n",
       "  4       0.400008     77.4                77.402950  77.397770     75.91372\n",
       "  ...          ...      ...                      ...        ...          ...\n",
       "  5475  547.500000     71.6                71.496430  70.497490     69.09521\n",
       "  5476  547.600000     71.6                71.496070  70.497284     67.07893\n",
       "  5477  547.700000     71.6                71.511665  70.497060     67.03350\n",
       "  5478  547.800050     71.6                71.531810  70.496840     68.92620\n",
       "  5479  547.899960     71.6                71.538055  70.496620     70.89732\n",
       "  \n",
       "  [5480 rows x 5 columns],\n",
       "          Time [s]    SoC [%]  Physics-and-Transformer    Physics  Transformer\n",
       "  0      -0.000017  31.500000                31.516178  31.500004    60.630890\n",
       "  1       0.099959  31.500000                31.526943  31.499397    58.604750\n",
       "  2       0.199934  31.500000                31.540771  31.498768    55.133250\n",
       "  3       0.300032  31.500000                31.547546  31.498100    53.137527\n",
       "  4       0.400008  31.500000                31.544350  31.497425    52.864400\n",
       "  ...          ...        ...                      ...        ...          ...\n",
       "  9680  968.000000  15.400002                16.491920  12.416431    49.020355\n",
       "  9681  968.100000  15.400002                16.638458  12.416176    49.261116\n",
       "  9682  968.200000  15.400002                16.607601  12.415924    49.388420\n",
       "  9683  968.300000  15.400002                16.360859  12.415649    49.300340\n",
       "  9684  968.400000  15.400002                16.127563  12.415352    49.130695\n",
       "  \n",
       "  [9685 rows x 5 columns],\n",
       "            Time [s]  SoC [%]  Physics-and-Transformer    Physics  Transformer\n",
       "  0        -0.000017     65.0                65.159100  65.000000    64.594300\n",
       "  1         0.099959     65.0                65.167920  64.999150    63.660282\n",
       "  2         0.199934     65.0                65.181550  64.998290    61.053380\n",
       "  3         0.300032     65.0                65.191330  64.997430    58.561718\n",
       "  4         0.400008     65.0                65.191900  64.996580    57.723454\n",
       "  ...            ...      ...                      ...        ...          ...\n",
       "  16424  1642.400000     48.8                48.964783  45.762413    52.724100\n",
       "  16425  1642.500000     48.8                48.988330  45.762188    52.625670\n",
       "  16426  1642.600000     48.8                48.999706  45.761970    52.061157\n",
       "  16427  1642.700000     48.8                48.978848  45.761765    51.556313\n",
       "  16428  1642.799900     48.8                48.943584  45.761560    51.519005\n",
       "  \n",
       "  [16429 rows x 5 columns],\n",
       "          Time [s]  SoC [%]  Physics-and-Transformer    Physics  Transformer\n",
       "  0      -0.000017     73.9                73.889915  73.900000    76.681410\n",
       "  1       0.099959     73.9                73.893105  73.899710    77.118520\n",
       "  2       0.199934     73.9                73.898700  73.899400    77.003740\n",
       "  3       0.300032     73.9                73.903180  73.899050    75.874565\n",
       "  4       0.400008     73.9                73.903630  73.898680    74.274590\n",
       "  ...          ...      ...                      ...        ...          ...\n",
       "  2926  292.599950     71.3                71.192480  70.780330    68.915260\n",
       "  2927  292.699980     71.3                71.194750  70.779450    69.582890\n",
       "  2928  292.800020     71.3                71.194580  70.778534    70.322550\n",
       "  2929  292.900000     71.3                71.195045  70.777626    69.735620\n",
       "  2930  292.999970     71.3                71.195200  70.776726    67.711640\n",
       "  \n",
       "  [2931 rows x 5 columns]]}"
      ]
     },
     "execution_count": 13,
     "metadata": {},
     "output_type": "execute_result"
    }
   ],
   "source": [
    "dict_experiments_results"
   ]
  },
  {
   "cell_type": "code",
   "execution_count": null,
   "id": "452dfd81-81c5-42a2-8e59-3d1b8b5b2c6f",
   "metadata": {},
   "outputs": [],
   "source": []
  },
  {
   "cell_type": "markdown",
   "id": "37a40bce-c69b-4c11-a83d-d94ffd513c0e",
   "metadata": {},
   "source": [
    "# Create interactive plots"
   ]
  },
  {
   "cell_type": "code",
   "execution_count": 14,
   "id": "c744e3f8-798e-4cff-beb9-fcf3afd3e483",
   "metadata": {},
   "outputs": [],
   "source": [
    "# !pip install plotly"
   ]
  },
  {
   "cell_type": "code",
   "execution_count": 15,
   "id": "ac865918-3bd6-4b09-8094-3e8056022813",
   "metadata": {},
   "outputs": [],
   "source": [
    "model_output_column_names = [\"Physics-and-Transformer\", \"Transformer\", \"Physics\"]"
   ]
  },
  {
   "cell_type": "code",
   "execution_count": 16,
   "id": "7f8cd75e-af05-4f0c-a0a4-7d891ee8a51c",
   "metadata": {},
   "outputs": [],
   "source": [
    "def plot_soc(file_id, model_outputs_to_display):\n",
    "    \n",
    "    # Use Plotly's \"Safe\" qualitative color palette. Source of color pallete: https://plotly.com/python/discrete-color/\n",
    "    colorblind_palette = pc.qualitative.Safe\n",
    "\n",
    "    for experiment_name in list(dict_experiments_results.keys()):\n",
    "        experiment_results = dict_experiments_results[experiment_name][file_id]\n",
    "    \n",
    "        # Create the figure\n",
    "        fig = go.Figure()\n",
    "        \n",
    "        # Plot actual SoC only from first model\n",
    "        fig.add_trace(go.Scatter(\n",
    "            x=experiment_results['Time [s]'],\n",
    "            y=experiment_results['SoC [%]'],\n",
    "            mode='lines',\n",
    "            line=dict(width=3, color=colorblind_palette[0]),\n",
    "            name='Actual SoC [%]'\n",
    "        ))\n",
    "\n",
    "        marker_styles = ['circle', 'square', 'diamond', 'cross', 'x', 'triangle-up', 'triangle-down']\n",
    "        for idx_model, model_output_column_name in enumerate(model_output_column_names):\n",
    "            # If model_output_column_name is not in selected model_outputs_to_display, skip\n",
    "            if model_output_column_name not in model_outputs_to_display:\n",
    "                continue     \n",
    "\n",
    "            line_opacity = 0.7\n",
    "            fig.add_trace(go.Scatter(\n",
    "                x=experiment_results['Time [s]'],\n",
    "                y=experiment_results[model_output_column_name],\n",
    "                mode='lines',\n",
    "                line=dict(dash='dot', width=3, \n",
    "                          color=f\"rgba{tuple(map(int, colorblind_palette[(idx_model % len(colorblind_palette)) + 1][4:-1].split(',')))[:3] + (line_opacity,)}\"),\n",
    "                name=f\"Model: {model_output_column_name}\"\n",
    "            ))    # color with opacity is last answer from AI assistant: https://chatgpt.com/share/67a8fb48-ae30-800b-b9c4-44caa979d630\n",
    "            \n",
    "        # Update layout\n",
    "        fig.update_layout(\n",
    "            title=f'Actual vs Estimated State of Charge (SoC %) of file {file_id}<br><sup>Experiment: {experiment_name}</sup>',\n",
    "            xaxis_title='Time [s]',\n",
    "            yaxis_title='State of Charge [%]',\n",
    "            legend_title='Legend',\n",
    "            template='plotly_white'\n",
    "        )\n",
    "        \n",
    "        # Show the plot\n",
    "        fig.show()"
   ]
  },
  {
   "cell_type": "code",
   "execution_count": 17,
   "id": "0a5991a5-0487-4119-add0-05012267f33e",
   "metadata": {},
   "outputs": [],
   "source": [
    "# get total number of files\n",
    "total_files = len(dict_experiments_results[list(dict_experiments_results)[0]])    # number of dataframes in first experiments\n"
   ]
  },
  {
   "cell_type": "code",
   "execution_count": 18,
   "id": "f5cf0597-c4f4-4d39-b656-b88ffa08d813",
   "metadata": {
    "tags": []
   },
   "outputs": [
    {
     "data": {
      "application/vnd.jupyter.widget-view+json": {
       "model_id": "3f215a50ee6e41c9ad910b40f8957ae7",
       "version_major": 2,
       "version_minor": 0
      },
      "text/plain": [
       "HBox(children=(SelectMultiple(description='Models:', index=(0, 1, 2), options=('Physics-and-Transformer', 'Tra…"
      ]
     },
     "metadata": {},
     "output_type": "display_data"
    },
    {
     "data": {
      "application/vnd.jupyter.widget-view+json": {
       "model_id": "78560696583c4ee78c7e7b034890e59b",
       "version_major": 2,
       "version_minor": 0
      },
      "text/plain": [
       "Output()"
      ]
     },
     "metadata": {},
     "output_type": "display_data"
    }
   ],
   "source": [
    "# Create Slider for multiple selection of models\n",
    "model_select_multiple = widgets.SelectMultiple(\n",
    "    options=model_output_column_names,\n",
    "    value=model_output_column_names,\n",
    "    rows=len(model_output_column_names),\n",
    "    description='Models:',\n",
    "    disabled=False\n",
    ")\n",
    "\n",
    "# Create a slider for selecting the ID\n",
    "id_slider = widgets.IntSlider(\n",
    "    value=0, \n",
    "    min=0, \n",
    "    max=(total_files -1),    # max is the total number of file in any of the model results \n",
    "    step=1, \n",
    "    description='Test file ID:',\n",
    "    continuous_update=False,\n",
    "    style={'slider_button_width': '20px'}  # Enable built-in buttons\n",
    ")\n",
    "\n",
    "# Create a horizontal layout for the id_slider and model_select_multiple\n",
    "controls = widgets.HBox([model_select_multiple, id_slider])\n",
    "\n",
    "# Connect the slider to the plot function\n",
    "interactive_plot = widgets.interactive_output(plot_soc, {'file_id': id_slider, 'model_outputs_to_display': model_select_multiple})\n",
    "\n",
    "# Display the controls widgets and plot together\n",
    "display(controls, interactive_plot)"
   ]
  },
  {
   "cell_type": "code",
   "execution_count": null,
   "id": "ee8eab7f-79da-4434-865c-91fc836e3bba",
   "metadata": {},
   "outputs": [],
   "source": []
  }
 ],
 "metadata": {
  "kernelspec": {
   "display_name": "Python 3 (ipykernel)",
   "language": "python",
   "name": "python3"
  },
  "language_info": {
   "codemirror_mode": {
    "name": "ipython",
    "version": 3
   },
   "file_extension": ".py",
   "mimetype": "text/x-python",
   "name": "python",
   "nbconvert_exporter": "python",
   "pygments_lexer": "ipython3",
   "version": "3.9.21"
  }
 },
 "nbformat": 4,
 "nbformat_minor": 5
}
