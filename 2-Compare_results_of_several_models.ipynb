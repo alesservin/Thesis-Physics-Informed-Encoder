{
 "cells": [
  {
   "cell_type": "code",
   "execution_count": 1,
   "id": "1071024c-f4f4-487a-8633-25525972bfaa",
   "metadata": {},
   "outputs": [],
   "source": [
    "# # In case the Int Slider does not appear, run:\n",
    "# !pip install ipywidgets\n",
    "# !jupyter lab clean\n",
    "# # restart kernel"
   ]
  },
  {
   "cell_type": "code",
   "execution_count": 2,
   "id": "c93581c1-1f55-44a4-8e5c-f1b3205ebf20",
   "metadata": {
    "editable": true,
    "slideshow": {
     "slide_type": ""
    },
    "tags": []
   },
   "outputs": [],
   "source": [
    "import pandas as pd\n",
    "import numpy as np\n",
    "import matplotlib.pyplot as plt\n",
    "import ipywidgets as widgets\n",
    "from IPython.display import display, clear_output\n",
    "import os\n",
    "import matplotlib.colors as mcolors\n",
    "import plotly.graph_objects as go\n",
    "import plotly.colors as pc"
   ]
  },
  {
   "cell_type": "code",
   "execution_count": 3,
   "id": "b80d934b-fad6-4837-8497-059c626f6be5",
   "metadata": {},
   "outputs": [],
   "source": [
    "# !pip list --not-required "
   ]
  },
  {
   "cell_type": "code",
   "execution_count": 4,
   "id": "0b9975f1-04b1-4d0b-9631-cd0d86d835b7",
   "metadata": {},
   "outputs": [],
   "source": [
    "# Define column names for plot\n",
    "# columns_to_keep = [\"Time [s]\", \"SoC [%]\", \"Physics-and-Transformer\", \"Physics\", \"Transformer\"]    # All models results\n",
    "columns_to_keep = [\"Time [s]\", \"SoC [%]\", \"Transformer\"]    # Only Transformer results"
   ]
  },
  {
   "cell_type": "markdown",
   "id": "41d3ade6-9f77-4e51-abe9-9ac61d0cd2c8",
   "metadata": {},
   "source": [
    "# Define results for which dataset to display"
   ]
  },
  {
   "cell_type": "code",
   "execution_count": 5,
   "id": "1b0d2a97-cfd2-4eac-bafd-2de1784581e7",
   "metadata": {
    "editable": true,
    "slideshow": {
     "slide_type": ""
    },
    "tags": []
   },
   "outputs": [],
   "source": [
    "# 1. Dataset: Full trips\n",
    "dataset = \"results/\""
   ]
  },
  {
   "cell_type": "code",
   "execution_count": null,
   "id": "7e6dd9a8-6847-411f-abcd-d352767bcc5b",
   "metadata": {},
   "outputs": [],
   "source": []
  },
  {
   "cell_type": "markdown",
   "id": "df4dba14-371e-47a5-b745-fba028d77257",
   "metadata": {},
   "source": [
    "# List all experiment folders"
   ]
  },
  {
   "cell_type": "code",
   "execution_count": 6,
   "id": "48785e21-8bd4-49ae-93a2-a23f35e2cd71",
   "metadata": {
    "editable": true,
    "slideshow": {
     "slide_type": ""
    },
    "tags": []
   },
   "outputs": [],
   "source": [
    "def list_directories(path):\n",
    "    directories = [f\"{path}/{d}\" for d in os.listdir(path) if os.path.isdir(os.path.join(path, d))]\n",
    "    return directories"
   ]
  },
  {
   "cell_type": "code",
   "execution_count": 7,
   "id": "85c779aa-2cd6-4981-a3d0-71ebef0cdc0c",
   "metadata": {
    "editable": true,
    "slideshow": {
     "slide_type": ""
    },
    "tags": []
   },
   "outputs": [
    {
     "data": {
      "text/plain": [
       "['results//1-HYBRYD_MODEL_False-LearningR_0.0001-epochs_5-patience_5_-TransformUsesCalculFields_False_lambda_2',\n",
       " 'results//HYBRYD_MODEL_False-LearningR_0.0001-epochs_5-patience_5_-TransformUsesCalculFields_False_lambda_2']"
      ]
     },
     "execution_count": 7,
     "metadata": {},
     "output_type": "execute_result"
    }
   ],
   "source": [
    "experiments_paths = list_directories(dataset)\n",
    "experiments_paths"
   ]
  },
  {
   "cell_type": "code",
   "execution_count": null,
   "id": "532e2228-7612-4bc8-8730-787925d6af20",
   "metadata": {},
   "outputs": [],
   "source": []
  },
  {
   "cell_type": "markdown",
   "id": "f3e6db2c-a590-4e4e-962f-4fb54a43e697",
   "metadata": {},
   "source": [
    "# Unify results of all models in each experiment"
   ]
  },
  {
   "cell_type": "code",
   "execution_count": 8,
   "id": "f55c66e3-319e-432c-9c05-e72944727240",
   "metadata": {},
   "outputs": [],
   "source": [
    "def get_filepaths_with_extension(file_extension=\".csv\", directory=\".\"):\n",
    "    output = []\n",
    "    \n",
    "    for file in os.listdir(directory):  \n",
    "        # Check if the file has the required extension\n",
    "        if file.endswith(file_extension):\n",
    "            output.append(f\"{directory}/{file}\") \n",
    "            \n",
    "    return output"
   ]
  },
  {
   "cell_type": "markdown",
   "id": "bd4792d9-e98b-43bc-8054-d03b40686408",
   "metadata": {},
   "source": [
    "## List all files from first model found"
   ]
  },
  {
   "cell_type": "code",
   "execution_count": 9,
   "id": "53279df1-f842-4ca0-bfe4-90748df2b69e",
   "metadata": {},
   "outputs": [
    {
     "data": {
      "text/plain": [
       "'results//1-HYBRYD_MODEL_False-LearningR_0.0001-epochs_5-patience_5_-TransformUsesCalculFields_False_lambda_2/Transformer/test_data_and_model_output'"
      ]
     },
     "execution_count": 9,
     "metadata": {},
     "output_type": "execute_result"
    }
   ],
   "source": [
    "first_model_path = list_directories(experiments_paths[0])[0]\n",
    "first_model_path += \"/test_data_and_model_output\"\n",
    "first_model_path"
   ]
  },
  {
   "cell_type": "code",
   "execution_count": 10,
   "id": "6a5ec1fd-466a-40e9-8046-798e1ac878d8",
   "metadata": {},
   "outputs": [
    {
     "data": {
      "text/plain": [
       "['file-0.csv',\n",
       " 'file-1.csv',\n",
       " 'file-2.csv',\n",
       " 'file-3.csv',\n",
       " 'file-4.csv',\n",
       " 'file-5.csv',\n",
       " 'file-6.csv',\n",
       " 'file-7.csv',\n",
       " 'file-8.csv',\n",
       " 'file-9.csv']"
      ]
     },
     "execution_count": 10,
     "metadata": {},
     "output_type": "execute_result"
    }
   ],
   "source": [
    "first_model_output_filenames = get_filepaths_with_extension(file_extension=\".csv\", directory=first_model_path)\n",
    "first_model_output_filenames = [path.split(\"/\")[-1] for path in first_model_output_filenames]    # keep only filename\n",
    "first_model_output_filenames"
   ]
  },
  {
   "cell_type": "markdown",
   "id": "9f219243-2c03-412b-b982-dd81d9c5e1a2",
   "metadata": {},
   "source": [
    "## Get and Concatenate results of all models of each experiment"
   ]
  },
  {
   "cell_type": "code",
   "execution_count": 11,
   "id": "53ffccf0-5f0f-4f12-a11e-2420082a92b4",
   "metadata": {},
   "outputs": [],
   "source": [
    "dict_experiments_results = {}"
   ]
  },
  {
   "cell_type": "code",
   "execution_count": null,
   "id": "70c1db55-7b58-4341-bf05-c067d3e35fcd",
   "metadata": {},
   "outputs": [],
   "source": []
  },
  {
   "cell_type": "code",
   "execution_count": 12,
   "id": "dc568fa7-a60b-408e-ba64-d1f8e6473611",
   "metadata": {},
   "outputs": [],
   "source": [
    "for experiment_path in experiments_paths:\n",
    "    # print(experiment_path)\n",
    "    # get all model directories\n",
    "    models_directories = list_directories(experiment_path)\n",
    "\n",
    "    models_output_directories = [f\"{model}/test_data_and_model_output\" for model in models_directories]    # add directory where models store their output\n",
    "\n",
    "    # print(models_output_directories)\n",
    "    \n",
    "    # get results from each model\n",
    "    experiment_result = []\n",
    "    for output_filename in first_model_output_filenames:    # iterate over each filename to make sure the comparison of the different models is correct\n",
    "        df = None\n",
    "        for models_output_directory in models_output_directories:    # iterate over the output directories of each model\n",
    "            csv_filepath = f\"{models_output_directory}/{output_filename}\"\n",
    "            df_new = pd.read_csv(csv_filepath, sep=\";\", encoding=\"ISO-8859-2\")\n",
    "\n",
    "            # if there is no dataframe stored yet\n",
    "            if df is None:\n",
    "                df = df_new.copy()\n",
    "            else: \n",
    "                df = pd.concat([df, df_new], axis=1)    # concatenating along columns \n",
    "\n",
    "        # keep only important columns for plots\n",
    "        df = df[columns_to_keep]    \n",
    "        # remove duplicated columns\n",
    "        df = df.loc[:,~df.columns.duplicated()]\n",
    "        \n",
    "        # print(df)\n",
    "        experiment_result.append(df)\n",
    "\n",
    "    experiment_name = experiment_path.split(\"/\")[-1]\n",
    "    dict_experiments_results[experiment_name] = experiment_result"
   ]
  },
  {
   "cell_type": "code",
   "execution_count": 13,
   "id": "deea1b10-62ec-471c-817f-7d5f04b56ae5",
   "metadata": {
    "scrolled": true
   },
   "outputs": [
    {
     "data": {
      "text/plain": [
       "{'1-HYBRYD_MODEL_False-LearningR_0.0001-epochs_5-patience_5_-TransformUsesCalculFields_False_lambda_2': [        Time [s]    SoC [%]  Transformer\n",
       "  0      -0.000017  31.500000    35.902878\n",
       "  1       0.099959  31.500000    35.702740\n",
       "  2       0.199934  31.500000    35.322014\n",
       "  3       0.300032  31.500000    35.009470\n",
       "  4       0.400008  31.500000    34.814440\n",
       "  ...          ...        ...          ...\n",
       "  9680  968.000000  15.400002    33.550014\n",
       "  9681  968.100000  15.400002    33.935017\n",
       "  9682  968.200000  15.400002    34.135060\n",
       "  9683  968.300000  15.400002    34.048470\n",
       "  9684  968.400000  15.400002    33.920208\n",
       "  \n",
       "  [9685 rows x 3 columns],\n",
       "          Time [s]  SoC [%]  Transformer\n",
       "  0      -0.000017     84.2     76.46036\n",
       "  1       0.099959     84.2     75.13155\n",
       "  2       0.199934     84.2     74.82404\n",
       "  3       0.300032     84.2     75.58883\n",
       "  4       0.400008     84.2     76.30762\n",
       "  ...          ...      ...          ...\n",
       "  9202  920.200000     70.4     75.59268\n",
       "  9203  920.300000     70.4     76.32131\n",
       "  9204  920.400000     70.4     75.92744\n",
       "  9205  920.500000     70.4     74.25652\n",
       "  9206  920.600000     70.4     72.63717\n",
       "  \n",
       "  [9207 rows x 3 columns],\n",
       "            Time [s]  SoC [%]  Transformer\n",
       "  0        -0.000017     72.1    69.572586\n",
       "  1         0.099959     72.1    66.951030\n",
       "  2         0.199934     72.1    65.885680\n",
       "  3         0.300032     72.1    66.350100\n",
       "  4         0.400008     72.1    67.815930\n",
       "  ...            ...      ...          ...\n",
       "  10963  1096.300000     57.8    63.893450\n",
       "  10964  1096.400000     57.8    62.876160\n",
       "  10965  1096.500000     57.8    60.634586\n",
       "  10966  1096.600000     57.8    58.975464\n",
       "  10967  1096.700000     57.8    60.044740\n",
       "  \n",
       "  [10968 rows x 3 columns],\n",
       "          Time [s]    SoC [%]  Transformer\n",
       "  0      -0.000017  52.600002    45.415337\n",
       "  1       0.099959  52.600002    43.939743\n",
       "  2       0.199934  52.600002    42.285324\n",
       "  3       0.300032  52.600002    41.433094\n",
       "  4       0.400008  52.600002    41.583305\n",
       "  ...          ...        ...          ...\n",
       "  7951  795.100000  38.100000    40.258880\n",
       "  7952  795.200000  38.100000    40.516468\n",
       "  7953  795.300000  38.100000    41.166756\n",
       "  7954  795.399960  38.100000    41.547370\n",
       "  7955  795.500000  38.100000    41.448020\n",
       "  \n",
       "  [7956 rows x 3 columns],\n",
       "          Time [s]  SoC [%]  Transformer\n",
       "  0      -0.000017     77.4    74.583870\n",
       "  1       0.099959     77.4    72.641670\n",
       "  2       0.199934     77.4    72.040040\n",
       "  3       0.300032     77.4    72.689620\n",
       "  4       0.400008     77.4    73.620760\n",
       "  ...          ...      ...          ...\n",
       "  5475  547.500000     71.6    67.354960\n",
       "  5476  547.600000     71.6    68.449875\n",
       "  5477  547.700000     71.6    70.149510\n",
       "  5478  547.800050     71.6    70.828026\n",
       "  5479  547.899960     71.6    69.876520\n",
       "  \n",
       "  [5480 rows x 3 columns],\n",
       "          Time [s]  SoC [%]  Transformer\n",
       "  0      -0.000017     73.9    71.445440\n",
       "  1       0.099959     73.9    68.879310\n",
       "  2       0.199934     73.9    67.897736\n",
       "  3       0.300032     73.9    68.567665\n",
       "  4       0.400008     73.9    69.882900\n",
       "  ...          ...      ...          ...\n",
       "  2926  292.599950     71.3    77.344770\n",
       "  2927  292.699980     71.3    76.445160\n",
       "  2928  292.800020     71.3    74.181190\n",
       "  2929  292.900000     71.3    72.044910\n",
       "  2930  292.999970     71.3    71.544136\n",
       "  \n",
       "  [2931 rows x 3 columns],\n",
       "            Time [s]  SoC [%]  Transformer\n",
       "  0        -0.000017     85.4    77.144684\n",
       "  1         0.099959     85.4    76.024110\n",
       "  2         0.199934     85.4    75.817980\n",
       "  3         0.300032     85.4    76.479866\n",
       "  4         0.400008     85.4    77.025010\n",
       "  ...            ...      ...          ...\n",
       "  13620  1362.000000     71.5    75.140780\n",
       "  13621  1362.100000     71.5    74.888870\n",
       "  13622  1362.200000     71.5    72.541160\n",
       "  13623  1362.300000     71.5    70.498320\n",
       "  13624  1362.400000     71.5    70.565210\n",
       "  \n",
       "  [13625 rows x 3 columns],\n",
       "            Time [s]  SoC [%]  Transformer\n",
       "  0        -0.000017     72.1    69.554100\n",
       "  1         0.099959     72.1    66.921390\n",
       "  2         0.199934     72.1    65.847496\n",
       "  3         0.300032     72.1    66.300606\n",
       "  4         0.400008     72.1    67.770520\n",
       "  ...            ...      ...          ...\n",
       "  28516  2851.599900     44.5    47.266922\n",
       "  28517  2851.700000     44.5    48.242090\n",
       "  28518  2851.800000     44.5    48.662690\n",
       "  28519  2851.900000     44.5    47.755955\n",
       "  28520  2852.000000     44.5    46.235603\n",
       "  \n",
       "  [28521 rows x 3 columns],\n",
       "            Time [s]  SoC [%]  Transformer\n",
       "  0        -0.000017     83.8    76.760826\n",
       "  1         0.099959     83.8    75.468796\n",
       "  2         0.199934     83.8    75.269684\n",
       "  3         0.300032     83.8    76.060486\n",
       "  4         0.400008     83.8    76.709540\n",
       "  ...            ...      ...          ...\n",
       "  14167  1416.700000     68.0    73.464790\n",
       "  14168  1416.800000     68.0    71.880325\n",
       "  14169  1416.900000     68.0    68.933410\n",
       "  14170  1417.000000     68.0    66.766990\n",
       "  14171  1417.100000     68.0    66.452990\n",
       "  \n",
       "  [14172 rows x 3 columns],\n",
       "            Time [s]  SoC [%]  Transformer\n",
       "  0        -0.000017     65.0    57.856840\n",
       "  1         0.099959     65.0    55.117485\n",
       "  2         0.199934     65.0    53.329190\n",
       "  3         0.300032     65.0    53.000618\n",
       "  4         0.400008     65.0    53.774350\n",
       "  ...            ...      ...          ...\n",
       "  16424  1642.400000     48.8    47.648510\n",
       "  16425  1642.500000     48.8    47.130722\n",
       "  16426  1642.600000     48.8    46.911354\n",
       "  16427  1642.700000     48.8    47.642467\n",
       "  16428  1642.799900     48.8    49.093052\n",
       "  \n",
       "  [16429 rows x 3 columns]],\n",
       " 'HYBRYD_MODEL_False-LearningR_0.0001-epochs_5-patience_5_-TransformUsesCalculFields_False_lambda_2': [        Time [s]    SoC [%]  Transformer\n",
       "  0      -0.000017  31.500000    35.902878\n",
       "  1       0.099959  31.500000    35.702740\n",
       "  2       0.199934  31.500000    35.322014\n",
       "  3       0.300032  31.500000    35.009470\n",
       "  4       0.400008  31.500000    34.814440\n",
       "  ...          ...        ...          ...\n",
       "  9680  968.000000  15.400002    33.550014\n",
       "  9681  968.100000  15.400002    33.935017\n",
       "  9682  968.200000  15.400002    34.135060\n",
       "  9683  968.300000  15.400002    34.048470\n",
       "  9684  968.400000  15.400002    33.920208\n",
       "  \n",
       "  [9685 rows x 3 columns],\n",
       "          Time [s]  SoC [%]  Transformer\n",
       "  0      -0.000017     84.2     76.46036\n",
       "  1       0.099959     84.2     75.13155\n",
       "  2       0.199934     84.2     74.82404\n",
       "  3       0.300032     84.2     75.58883\n",
       "  4       0.400008     84.2     76.30762\n",
       "  ...          ...      ...          ...\n",
       "  9202  920.200000     70.4     75.59268\n",
       "  9203  920.300000     70.4     76.32131\n",
       "  9204  920.400000     70.4     75.92744\n",
       "  9205  920.500000     70.4     74.25652\n",
       "  9206  920.600000     70.4     72.63717\n",
       "  \n",
       "  [9207 rows x 3 columns],\n",
       "            Time [s]  SoC [%]  Transformer\n",
       "  0        -0.000017     72.1    69.572586\n",
       "  1         0.099959     72.1    66.951030\n",
       "  2         0.199934     72.1    65.885680\n",
       "  3         0.300032     72.1    66.350100\n",
       "  4         0.400008     72.1    67.815930\n",
       "  ...            ...      ...          ...\n",
       "  10963  1096.300000     57.8    63.893450\n",
       "  10964  1096.400000     57.8    62.876160\n",
       "  10965  1096.500000     57.8    60.634586\n",
       "  10966  1096.600000     57.8    58.975464\n",
       "  10967  1096.700000     57.8    60.044740\n",
       "  \n",
       "  [10968 rows x 3 columns],\n",
       "          Time [s]    SoC [%]  Transformer\n",
       "  0      -0.000017  52.600002    45.415337\n",
       "  1       0.099959  52.600002    43.939743\n",
       "  2       0.199934  52.600002    42.285324\n",
       "  3       0.300032  52.600002    41.433094\n",
       "  4       0.400008  52.600002    41.583305\n",
       "  ...          ...        ...          ...\n",
       "  7951  795.100000  38.100000    40.258880\n",
       "  7952  795.200000  38.100000    40.516468\n",
       "  7953  795.300000  38.100000    41.166756\n",
       "  7954  795.399960  38.100000    41.547370\n",
       "  7955  795.500000  38.100000    41.448020\n",
       "  \n",
       "  [7956 rows x 3 columns],\n",
       "          Time [s]  SoC [%]  Transformer\n",
       "  0      -0.000017     77.4    74.583870\n",
       "  1       0.099959     77.4    72.641670\n",
       "  2       0.199934     77.4    72.040040\n",
       "  3       0.300032     77.4    72.689620\n",
       "  4       0.400008     77.4    73.620760\n",
       "  ...          ...      ...          ...\n",
       "  5475  547.500000     71.6    67.354960\n",
       "  5476  547.600000     71.6    68.449875\n",
       "  5477  547.700000     71.6    70.149510\n",
       "  5478  547.800050     71.6    70.828026\n",
       "  5479  547.899960     71.6    69.876520\n",
       "  \n",
       "  [5480 rows x 3 columns],\n",
       "          Time [s]  SoC [%]  Transformer\n",
       "  0      -0.000017     73.9    71.445440\n",
       "  1       0.099959     73.9    68.879310\n",
       "  2       0.199934     73.9    67.897736\n",
       "  3       0.300032     73.9    68.567665\n",
       "  4       0.400008     73.9    69.882900\n",
       "  ...          ...      ...          ...\n",
       "  2926  292.599950     71.3    77.344770\n",
       "  2927  292.699980     71.3    76.445160\n",
       "  2928  292.800020     71.3    74.181190\n",
       "  2929  292.900000     71.3    72.044910\n",
       "  2930  292.999970     71.3    71.544136\n",
       "  \n",
       "  [2931 rows x 3 columns],\n",
       "            Time [s]  SoC [%]  Transformer\n",
       "  0        -0.000017     85.4    77.144684\n",
       "  1         0.099959     85.4    76.024110\n",
       "  2         0.199934     85.4    75.817980\n",
       "  3         0.300032     85.4    76.479866\n",
       "  4         0.400008     85.4    77.025010\n",
       "  ...            ...      ...          ...\n",
       "  13620  1362.000000     71.5    75.140780\n",
       "  13621  1362.100000     71.5    74.888870\n",
       "  13622  1362.200000     71.5    72.541160\n",
       "  13623  1362.300000     71.5    70.498320\n",
       "  13624  1362.400000     71.5    70.565210\n",
       "  \n",
       "  [13625 rows x 3 columns],\n",
       "            Time [s]  SoC [%]  Transformer\n",
       "  0        -0.000017     72.1    69.554100\n",
       "  1         0.099959     72.1    66.921390\n",
       "  2         0.199934     72.1    65.847496\n",
       "  3         0.300032     72.1    66.300606\n",
       "  4         0.400008     72.1    67.770520\n",
       "  ...            ...      ...          ...\n",
       "  28516  2851.599900     44.5    47.266922\n",
       "  28517  2851.700000     44.5    48.242090\n",
       "  28518  2851.800000     44.5    48.662690\n",
       "  28519  2851.900000     44.5    47.755955\n",
       "  28520  2852.000000     44.5    46.235603\n",
       "  \n",
       "  [28521 rows x 3 columns],\n",
       "            Time [s]  SoC [%]  Transformer\n",
       "  0        -0.000017     83.8    76.760826\n",
       "  1         0.099959     83.8    75.468796\n",
       "  2         0.199934     83.8    75.269684\n",
       "  3         0.300032     83.8    76.060486\n",
       "  4         0.400008     83.8    76.709540\n",
       "  ...            ...      ...          ...\n",
       "  14167  1416.700000     68.0    73.464790\n",
       "  14168  1416.800000     68.0    71.880325\n",
       "  14169  1416.900000     68.0    68.933410\n",
       "  14170  1417.000000     68.0    66.766990\n",
       "  14171  1417.100000     68.0    66.452990\n",
       "  \n",
       "  [14172 rows x 3 columns],\n",
       "            Time [s]  SoC [%]  Transformer\n",
       "  0        -0.000017     65.0    57.856840\n",
       "  1         0.099959     65.0    55.117485\n",
       "  2         0.199934     65.0    53.329190\n",
       "  3         0.300032     65.0    53.000618\n",
       "  4         0.400008     65.0    53.774350\n",
       "  ...            ...      ...          ...\n",
       "  16424  1642.400000     48.8    47.648510\n",
       "  16425  1642.500000     48.8    47.130722\n",
       "  16426  1642.600000     48.8    46.911354\n",
       "  16427  1642.700000     48.8    47.642467\n",
       "  16428  1642.799900     48.8    49.093052\n",
       "  \n",
       "  [16429 rows x 3 columns]]}"
      ]
     },
     "execution_count": 13,
     "metadata": {},
     "output_type": "execute_result"
    }
   ],
   "source": [
    "dict_experiments_results"
   ]
  },
  {
   "cell_type": "code",
   "execution_count": null,
   "id": "452dfd81-81c5-42a2-8e59-3d1b8b5b2c6f",
   "metadata": {},
   "outputs": [],
   "source": []
  },
  {
   "cell_type": "markdown",
   "id": "37a40bce-c69b-4c11-a83d-d94ffd513c0e",
   "metadata": {},
   "source": [
    "# Create interactive plots"
   ]
  },
  {
   "cell_type": "code",
   "execution_count": 14,
   "id": "c744e3f8-798e-4cff-beb9-fcf3afd3e483",
   "metadata": {},
   "outputs": [],
   "source": [
    "# !pip install plotly"
   ]
  },
  {
   "cell_type": "code",
   "execution_count": 15,
   "id": "ac865918-3bd6-4b09-8094-3e8056022813",
   "metadata": {},
   "outputs": [],
   "source": [
    "model_output_column_names = [\"Physics-and-Transformer\", \"Transformer\", \"Physics\"]"
   ]
  },
  {
   "cell_type": "code",
   "execution_count": 16,
   "id": "7f8cd75e-af05-4f0c-a0a4-7d891ee8a51c",
   "metadata": {},
   "outputs": [],
   "source": [
    "def plot_soc(file_id, model_outputs_to_display):\n",
    "    \n",
    "    # Use Plotly's \"Safe\" qualitative color palette. Source of color pallete: https://plotly.com/python/discrete-color/\n",
    "    colorblind_palette = pc.qualitative.Safe\n",
    "\n",
    "    for experiment_name in list(dict_experiments_results.keys()):\n",
    "        experiment_results = dict_experiments_results[experiment_name][file_id]\n",
    "    \n",
    "        # Create the figure\n",
    "        fig = go.Figure()\n",
    "        \n",
    "        # Plot actual SoC only from first model\n",
    "        fig.add_trace(go.Scatter(\n",
    "            x=experiment_results['Time [s]'],\n",
    "            y=experiment_results['SoC [%]'],\n",
    "            mode='lines',\n",
    "            line=dict(width=3, color=colorblind_palette[0]),\n",
    "            name='Actual SoC [%]'\n",
    "        ))\n",
    "\n",
    "        marker_styles = ['circle', 'square', 'diamond', 'cross', 'x', 'triangle-up', 'triangle-down']\n",
    "        for idx_model, model_output_column_name in enumerate(model_output_column_names):\n",
    "            # If model_output_column_name is not in selected model_outputs_to_display, skip\n",
    "            if model_output_column_name not in model_outputs_to_display:\n",
    "                continue     \n",
    "\n",
    "            line_opacity = 0.7\n",
    "            fig.add_trace(go.Scatter(\n",
    "                x=experiment_results['Time [s]'],\n",
    "                y=experiment_results[model_output_column_name],\n",
    "                mode='lines',\n",
    "                line=dict(dash='dot', width=3, \n",
    "                          color=f\"rgba{tuple(map(int, colorblind_palette[(idx_model % len(colorblind_palette)) + 1][4:-1].split(',')))[:3] + (line_opacity,)}\"),\n",
    "                name=f\"Model: {model_output_column_name}\"\n",
    "            ))    # color with opacity is last answer from AI assistant: https://chatgpt.com/share/67a8fb48-ae30-800b-b9c4-44caa979d630\n",
    "            \n",
    "        # Update layout\n",
    "        fig.update_layout(\n",
    "            title=f'Actual vs Estimated State of Charge (SoC %) of file {file_id}<br><sup>Experiment: {experiment_name}</sup>',\n",
    "            xaxis_title='Time [s]',\n",
    "            yaxis_title='State of Charge [%]',\n",
    "            legend_title='Legend',\n",
    "            template='plotly_white'\n",
    "        )\n",
    "        \n",
    "        # Show the plot\n",
    "        fig.show()"
   ]
  },
  {
   "cell_type": "code",
   "execution_count": 17,
   "id": "0a5991a5-0487-4119-add0-05012267f33e",
   "metadata": {},
   "outputs": [],
   "source": [
    "# get total number of files\n",
    "total_files = len(dict_experiments_results[list(dict_experiments_results)[0]])    # number of dataframes in first experiments"
   ]
  },
  {
   "cell_type": "code",
   "execution_count": 18,
   "id": "f5cf0597-c4f4-4d39-b656-b88ffa08d813",
   "metadata": {
    "editable": true,
    "slideshow": {
     "slide_type": ""
    },
    "tags": []
   },
   "outputs": [
    {
     "data": {
      "application/vnd.jupyter.widget-view+json": {
       "model_id": "4d9ceca8977e4d05aa57421b1b31485e",
       "version_major": 2,
       "version_minor": 0
      },
      "text/plain": [
       "HBox(children=(SelectMultiple(description='Models:', index=(0, 1, 2), options=('Physics-and-Transformer', 'Tra…"
      ]
     },
     "metadata": {},
     "output_type": "display_data"
    },
    {
     "data": {
      "application/vnd.jupyter.widget-view+json": {
       "model_id": "3ceec6decfe5434ca4e30f45d5048af5",
       "version_major": 2,
       "version_minor": 0
      },
      "text/plain": [
       "Output()"
      ]
     },
     "metadata": {},
     "output_type": "display_data"
    }
   ],
   "source": [
    "# Create Slider for multiple selection of models\n",
    "model_select_multiple = widgets.SelectMultiple(\n",
    "    options=model_output_column_names,\n",
    "    value=model_output_column_names,\n",
    "    rows=len(model_output_column_names),\n",
    "    description='Models:',\n",
    "    disabled=False\n",
    ")\n",
    "\n",
    "# Create a slider for selecting the ID\n",
    "id_slider = widgets.IntSlider(\n",
    "    value=0, \n",
    "    min=0, \n",
    "    max=(total_files -1),    # max is the total number of file in any of the model results \n",
    "    step=1, \n",
    "    description='Test file ID:',\n",
    "    continuous_update=False,\n",
    "    style={'slider_button_width': '20px'}  # Enable built-in buttons\n",
    ")\n",
    "\n",
    "# Create a horizontal layout for the id_slider and model_select_multiple\n",
    "controls = widgets.HBox([model_select_multiple, id_slider])\n",
    "\n",
    "# Connect the slider to the plot function\n",
    "interactive_plot = widgets.interactive_output(plot_soc, {'file_id': id_slider, 'model_outputs_to_display': model_select_multiple})\n",
    "\n",
    "# Display the controls widgets and plot together\n",
    "display(controls, interactive_plot)"
   ]
  },
  {
   "cell_type": "code",
   "execution_count": null,
   "id": "ee8eab7f-79da-4434-865c-91fc836e3bba",
   "metadata": {},
   "outputs": [],
   "source": []
  }
 ],
 "metadata": {
  "kernelspec": {
   "display_name": "Python 3 (ipykernel)",
   "language": "python",
   "name": "python3"
  },
  "language_info": {
   "codemirror_mode": {
    "name": "ipython",
    "version": 3
   },
   "file_extension": ".py",
   "mimetype": "text/x-python",
   "name": "python",
   "nbconvert_exporter": "python",
   "pygments_lexer": "ipython3",
   "version": "3.9.21"
  }
 },
 "nbformat": 4,
 "nbformat_minor": 5
}
