{
 "cells": [
  {
   "cell_type": "code",
   "execution_count": 1,
   "id": "1071024c-f4f4-487a-8633-25525972bfaa",
   "metadata": {},
   "outputs": [],
   "source": [
    "# # In case the Int Slider does not appear, run:\n",
    "# !pip install ipywidgets\n",
    "# !jupyter lab clean\n",
    "# # restart kernel"
   ]
  },
  {
   "cell_type": "code",
   "execution_count": 2,
   "id": "c93581c1-1f55-44a4-8e5c-f1b3205ebf20",
   "metadata": {
    "tags": []
   },
   "outputs": [],
   "source": [
    "import pandas as pd\n",
    "import numpy as np\n",
    "import matplotlib.pyplot as plt\n",
    "import ipywidgets as widgets\n",
    "from IPython.display import display, clear_output\n",
    "import os\n",
    "import matplotlib.colors as mcolors"
   ]
  },
  {
   "cell_type": "markdown",
   "id": "788bc768-77d5-4523-9717-687a515c9ba4",
   "metadata": {},
   "source": [
    "# Define results from which experiment to display"
   ]
  },
  {
   "cell_type": "code",
   "execution_count": 3,
   "id": "9165d78b-3c70-4721-9490-46ede9975613",
   "metadata": {},
   "outputs": [],
   "source": [
    "# # 1. To load data from microtrips\n",
    "# results_subdirectory = \"1-For-Microtrips\""
   ]
  },
  {
   "cell_type": "code",
   "execution_count": 4,
   "id": "39e780b8-e99e-4dc9-838b-7b5aa6daa621",
   "metadata": {},
   "outputs": [],
   "source": [
    "# # 2. To load data from full trips \n",
    "# results_subdirectory = \"2-For-Fulltrips\""
   ]
  },
  {
   "cell_type": "code",
   "execution_count": 5,
   "id": "177a0ec6-a819-492b-adb2-1947541c6577",
   "metadata": {},
   "outputs": [],
   "source": [
    "# # 3. to load data from full trips (ML trained without calculated columns, only original columns from dataset)\n",
    "# results_subdirectory = \"3-For-Fulltrips-without-calculated-columns-for-ML\""
   ]
  },
  {
   "cell_type": "code",
   "execution_count": 6,
   "id": "1f4bd29e-5ee1-437a-8710-a5c3f306b331",
   "metadata": {},
   "outputs": [],
   "source": [
    "# # 4. to load data from full trips with Battery temperature as feature\n",
    "# results_subdirectory = \"4-For-Full-trips-with-Battery-Temperature\""
   ]
  },
  {
   "cell_type": "code",
   "execution_count": 7,
   "id": "fd27d5cb-27ba-443c-bc9b-c8a248d7e3ff",
   "metadata": {},
   "outputs": [],
   "source": [
    "# # 5. To load data from full trips (without early stpooing, learning rate = 1e-4)\n",
    "# results_subdirectory = \"5-For-Full-Trips-without-EarlyStopping_LearningRate-1e-4\""
   ]
  },
  {
   "cell_type": "code",
   "execution_count": 8,
   "id": "c9ac4e90-59de-4fbf-8995-ab8bcc6b74b4",
   "metadata": {},
   "outputs": [],
   "source": [
    "# 6. To load data from full trips (without early stpooing, learning rate = 1e-3)\n",
    "results_subdirectory = \"6-For-Full-Trips-without-EarlyStopping_LearningRate-1e-3\""
   ]
  },
  {
   "cell_type": "code",
   "execution_count": 9,
   "id": "e8f17f8a-8902-45f1-a6c9-45ff15cd2267",
   "metadata": {},
   "outputs": [
    {
     "data": {
      "text/plain": [
       "['results/6-For-Full-Trips-without-EarlyStopping_LearningRate-1e-3/-only-MachineLearning/test_data_and_model_output',\n",
       " 'results/6-For-Full-Trips-without-EarlyStopping_LearningRate-1e-3/Physics-only/test_data_and_model_output',\n",
       " 'results/6-For-Full-Trips-without-EarlyStopping_LearningRate-1e-3/Physics-and-MachineLearning/test_data_and_model_output']"
      ]
     },
     "execution_count": 9,
     "metadata": {},
     "output_type": "execute_result"
    }
   ],
   "source": [
    "model_names = [\n",
    "    \"-only-MachineLearning\",\n",
    "    \"Physics-only\",\n",
    "    \"Physics-and-MachineLearning\",\n",
    "]\n",
    "\n",
    "# add missing folder names to model paths\n",
    "models_results_paths = [f\"results/{results_subdirectory}/{model_name}/test_data_and_model_output\" for model_name in model_names]\n",
    "\n",
    "models_results_paths"
   ]
  },
  {
   "cell_type": "code",
   "execution_count": null,
   "id": "6460a5f5-8c4c-4e74-8f61-e4d1d1df17b7",
   "metadata": {},
   "outputs": [],
   "source": []
  },
  {
   "cell_type": "markdown",
   "id": "240dbd85-a2f5-4c26-9414-08c9383ef06a",
   "metadata": {
    "jp-MarkdownHeadingCollapsed": true
   },
   "source": [
    "# Get data"
   ]
  },
  {
   "cell_type": "code",
   "execution_count": 10,
   "id": "7579f02d-643f-4240-ae40-c48c2e4e5a55",
   "metadata": {},
   "outputs": [],
   "source": [
    "# data structure: Each set of results will be stored as one element of a list (all_models_results).\n",
    "# Each element will contain all the test data and model output files\n",
    "all_models_results_filepaths = []"
   ]
  },
  {
   "cell_type": "code",
   "execution_count": 11,
   "id": "3abd605c-ad2d-4f62-b9cb-e4038e000bb1",
   "metadata": {
    "tags": []
   },
   "outputs": [],
   "source": [
    "def get_filepaths_with_extension(file_extension=\".csv\", directory=\".\"):\n",
    "    output = []\n",
    "    \n",
    "    for file in os.listdir(directory):  \n",
    "        # Check if the file has the required extension\n",
    "        if file.endswith(file_extension):\n",
    "            output.append(f\"{directory}/{file}\") \n",
    "            \n",
    "    return output"
   ]
  },
  {
   "cell_type": "code",
   "execution_count": 12,
   "id": "b9b3f892-9298-4dc4-9443-ae7c8de6be7f",
   "metadata": {
    "tags": []
   },
   "outputs": [],
   "source": [
    "# get filepaths of all test results of all models\n",
    "for path in models_results_paths:\n",
    "    model_result_datafile_paths = get_filepaths_with_extension(file_extension=\".csv\", directory=f\"{path}\")\n",
    "\n",
    "    all_models_results_filepaths.append(model_result_datafile_paths)"
   ]
  },
  {
   "cell_type": "code",
   "execution_count": 13,
   "id": "2d701dce-ba5d-4373-a047-bb00731eaf1d",
   "metadata": {
    "scrolled": true
   },
   "outputs": [
    {
     "data": {
      "text/plain": [
       "[['results/6-For-Full-Trips-without-EarlyStopping_LearningRate-1e-3/-only-MachineLearning/test_data_and_model_output/file-0.csv',\n",
       "  'results/6-For-Full-Trips-without-EarlyStopping_LearningRate-1e-3/-only-MachineLearning/test_data_and_model_output/file-1.csv',\n",
       "  'results/6-For-Full-Trips-without-EarlyStopping_LearningRate-1e-3/-only-MachineLearning/test_data_and_model_output/file-2.csv',\n",
       "  'results/6-For-Full-Trips-without-EarlyStopping_LearningRate-1e-3/-only-MachineLearning/test_data_and_model_output/file-3.csv',\n",
       "  'results/6-For-Full-Trips-without-EarlyStopping_LearningRate-1e-3/-only-MachineLearning/test_data_and_model_output/file-4.csv',\n",
       "  'results/6-For-Full-Trips-without-EarlyStopping_LearningRate-1e-3/-only-MachineLearning/test_data_and_model_output/file-5.csv',\n",
       "  'results/6-For-Full-Trips-without-EarlyStopping_LearningRate-1e-3/-only-MachineLearning/test_data_and_model_output/file-6.csv',\n",
       "  'results/6-For-Full-Trips-without-EarlyStopping_LearningRate-1e-3/-only-MachineLearning/test_data_and_model_output/file-7.csv',\n",
       "  'results/6-For-Full-Trips-without-EarlyStopping_LearningRate-1e-3/-only-MachineLearning/test_data_and_model_output/file-8.csv',\n",
       "  'results/6-For-Full-Trips-without-EarlyStopping_LearningRate-1e-3/-only-MachineLearning/test_data_and_model_output/file-9.csv'],\n",
       " ['results/6-For-Full-Trips-without-EarlyStopping_LearningRate-1e-3/Physics-only/test_data_and_model_output/file-0.csv',\n",
       "  'results/6-For-Full-Trips-without-EarlyStopping_LearningRate-1e-3/Physics-only/test_data_and_model_output/file-1.csv',\n",
       "  'results/6-For-Full-Trips-without-EarlyStopping_LearningRate-1e-3/Physics-only/test_data_and_model_output/file-2.csv',\n",
       "  'results/6-For-Full-Trips-without-EarlyStopping_LearningRate-1e-3/Physics-only/test_data_and_model_output/file-3.csv',\n",
       "  'results/6-For-Full-Trips-without-EarlyStopping_LearningRate-1e-3/Physics-only/test_data_and_model_output/file-4.csv',\n",
       "  'results/6-For-Full-Trips-without-EarlyStopping_LearningRate-1e-3/Physics-only/test_data_and_model_output/file-5.csv',\n",
       "  'results/6-For-Full-Trips-without-EarlyStopping_LearningRate-1e-3/Physics-only/test_data_and_model_output/file-6.csv',\n",
       "  'results/6-For-Full-Trips-without-EarlyStopping_LearningRate-1e-3/Physics-only/test_data_and_model_output/file-7.csv',\n",
       "  'results/6-For-Full-Trips-without-EarlyStopping_LearningRate-1e-3/Physics-only/test_data_and_model_output/file-8.csv',\n",
       "  'results/6-For-Full-Trips-without-EarlyStopping_LearningRate-1e-3/Physics-only/test_data_and_model_output/file-9.csv']]"
      ]
     },
     "execution_count": 13,
     "metadata": {},
     "output_type": "execute_result"
    }
   ],
   "source": [
    "all_models_results_filepaths[:2]"
   ]
  },
  {
   "cell_type": "code",
   "execution_count": 14,
   "id": "c46204c0-4b30-43dd-9e48-55ddc4ad60bf",
   "metadata": {},
   "outputs": [],
   "source": [
    "# read all model results\n",
    "# each model will be represented by an index, and inside that index, all the dfs that contain the test results\n",
    "lst_models_dfs = []    \n",
    "\n",
    "for idx_model in range(len(all_models_results_filepaths)):\n",
    "    model_dfs = [pd.read_csv(filepath, sep=\";\", encoding=\"ISO-8859-2\") for filepath in all_models_results_filepaths[idx_model]]\n",
    "    lst_models_dfs.append(model_dfs)"
   ]
  },
  {
   "cell_type": "markdown",
   "id": "37a40bce-c69b-4c11-a83d-d94ffd513c0e",
   "metadata": {},
   "source": [
    "# Create interactive plots"
   ]
  },
  {
   "cell_type": "code",
   "execution_count": 15,
   "id": "87969840-1f6a-4bfb-9934-e94219c2099e",
   "metadata": {
    "tags": []
   },
   "outputs": [],
   "source": [
    "def plot_soc(file_id, model_outputs_to_display):\n",
    "     # Method to display the data from the dataframe from lst_dfs, based on its file_id.\n",
    "\n",
    "    # Get colorblind-friendly colors from Matplotlib's Tableau palette\n",
    "    # colorblind_palette = list(mcolors.TABLEAU_COLORS.values())\n",
    "    # colorblind_palette = ['#4daf4a', '#f781bf', '#e41a1c', '#dede00', '#ff7f00',  '#999999', '#377eb8','#a65628', '#984ea3', ]\n",
    "    # colorblind_palette = ['#000000', '#377eb8', '#ff7f00', '#dede00', '#984ea3']\n",
    "    colorblind_palette = ['#000000', '#377eb8', '#a65628', '#dede00', '#984ea3']\n",
    "        \n",
    "    plt.figure(figsize=(15, 5))\n",
    "    # Plot actual SoC only from first model\n",
    "    plt.plot(lst_models_dfs[0][file_id]['Time [s]'], lst_models_dfs[0][file_id]['SoC [%]'], \n",
    "             label='Actual SoC [%]', linewidth=3, color=colorblind_palette[0])\n",
    "\n",
    "    # Plot the model result of each model\n",
    "    for idx_model in range(len(lst_models_dfs)):\n",
    "        # get column name of model output. Model output is the last column\n",
    "        model_output_column_name = lst_models_dfs[idx_model][file_id].columns[-1]    \n",
    "\n",
    "        # if model_output_column_name is not in selected model_outputs_to_display, skip\n",
    "        if model_output_column_name not in model_outputs_to_display:\n",
    "            continue\n",
    "        \n",
    "        plt.plot(\n",
    "            lst_models_dfs[idx_model][file_id]['Time [s]'], \n",
    "            lst_models_dfs[idx_model][file_id][model_output_column_name],\n",
    "            label = f\"Model: {model_output_column_name}\", \n",
    "            linestyle = '--', \n",
    "            linewidth = 3,\n",
    "            color=colorblind_palette[idx_model+1]\n",
    "        )\n",
    "    \n",
    "    plt.xlabel('Time [s]')\n",
    "    plt.ylabel('State of Charge [%]')\n",
    "    \n",
    "    plt.title(f'Actual vs Estimated State of Charge (SoC %) of file {file_id}')\n",
    "    \n",
    "    plt.legend()\n",
    "    plt.grid(True)\n",
    "    plt.tight_layout()\n",
    "    plt.show()"
   ]
  },
  {
   "cell_type": "code",
   "execution_count": 16,
   "id": "7ebad95b-e4ac-4177-b0f8-49b8fc446bb1",
   "metadata": {},
   "outputs": [],
   "source": [
    "# Enable inline plotting\n",
    "%matplotlib inline"
   ]
  },
  {
   "cell_type": "code",
   "execution_count": 17,
   "id": "775cb05f-5b00-468e-af16-a8c1741e4c0b",
   "metadata": {},
   "outputs": [
    {
     "data": {
      "text/plain": [
       "['-only-MachineLearning', 'Physics-only-', 'Physics-and-MachineLearning']"
      ]
     },
     "execution_count": 17,
     "metadata": {},
     "output_type": "execute_result"
    }
   ],
   "source": [
    "# get model names\n",
    "model_output_from_dfs = [ model_df[0].columns[-1] for model_df in lst_models_dfs ]\n",
    "model_output_from_dfs"
   ]
  },
  {
   "cell_type": "code",
   "execution_count": 18,
   "id": "f5cf0597-c4f4-4d39-b656-b88ffa08d813",
   "metadata": {
    "tags": []
   },
   "outputs": [
    {
     "data": {
      "application/vnd.jupyter.widget-view+json": {
       "model_id": "d0a8a1a2448d43e88e268f059f779dab",
       "version_major": 2,
       "version_minor": 0
      },
      "text/plain": [
       "HBox(children=(SelectMultiple(description='Models:', index=(0, 1, 2), options=('-only-MachineLearning', 'Physi…"
      ]
     },
     "metadata": {},
     "output_type": "display_data"
    },
    {
     "data": {
      "application/vnd.jupyter.widget-view+json": {
       "model_id": "f3878c5e28cf4b8abfa33b8e72daa65a",
       "version_major": 2,
       "version_minor": 0
      },
      "text/plain": [
       "Output()"
      ]
     },
     "metadata": {},
     "output_type": "display_data"
    }
   ],
   "source": [
    "# Create Slider for multiple selection of models\n",
    "model_select_multiple = widgets.SelectMultiple(\n",
    "    options=model_output_from_dfs,\n",
    "    value=model_output_from_dfs,\n",
    "    rows=len(model_output_from_dfs),\n",
    "    description='Models:',\n",
    "    disabled=False\n",
    ")\n",
    "\n",
    "# Create a slider for selecting the ID\n",
    "id_slider = widgets.IntSlider(\n",
    "    value=0, \n",
    "    min=0, \n",
    "    max=(len(lst_models_dfs[0]) -1),    # max is the total number of file in any of the model results \n",
    "    step=1, \n",
    "    description='Test file ID:',\n",
    "    continuous_update=False,\n",
    "    # style={'slider_button_width': '20px'}  # Enable built-in buttons\n",
    ")\n",
    "\n",
    "# Create a horizontal layout for the id_slider and model_select_multiple\n",
    "controls = widgets.HBox([model_select_multiple, id_slider])\n",
    "\n",
    "# Connect the slider to the plot function\n",
    "interactive_plot = widgets.interactive_output(plot_soc, {'file_id': id_slider, 'model_outputs_to_display': model_select_multiple})\n",
    "\n",
    "# Display the controls widgets and plot together\n",
    "display(controls, interactive_plot)"
   ]
  },
  {
   "cell_type": "code",
   "execution_count": null,
   "id": "ee8eab7f-79da-4434-865c-91fc836e3bba",
   "metadata": {},
   "outputs": [],
   "source": []
  }
 ],
 "metadata": {
  "kernelspec": {
   "display_name": "Python 3 (ipykernel)",
   "language": "python",
   "name": "python3"
  },
  "language_info": {
   "codemirror_mode": {
    "name": "ipython",
    "version": 3
   },
   "file_extension": ".py",
   "mimetype": "text/x-python",
   "name": "python",
   "nbconvert_exporter": "python",
   "pygments_lexer": "ipython3",
   "version": "3.9.21"
  }
 },
 "nbformat": 4,
 "nbformat_minor": 5
}
